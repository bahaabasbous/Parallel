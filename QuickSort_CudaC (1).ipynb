{
  "cells": [
    {
      "cell_type": "code",
      "execution_count": 2,
      "metadata": {
        "colab": {
          "base_uri": "https://localhost:8080/"
        },
        "id": "ysToOf6ctQt4",
        "outputId": "2408a3ec-f4fb-4474-cdf9-2f7f35a8bd6b"
      },
      "outputs": [
        {
          "name": "stdout",
          "output_type": "stream",
          "text": [
            "nvcc: NVIDIA (R) Cuda compiler driver\n",
            "Copyright (c) 2005-2022 NVIDIA Corporation\n",
            "Built on Wed_Sep_21_10:33:58_PDT_2022\n",
            "Cuda compilation tools, release 11.8, V11.8.89\n",
            "Build cuda_11.8.r11.8/compiler.31833905_0\n"
          ]
        }
      ],
      "source": [
        "!nvcc --version"
      ]
    },
    {
      "cell_type": "code",
      "execution_count": 1,
      "metadata": {
        "colab": {
          "base_uri": "https://localhost:8080/"
        },
        "id": "C2lQcbyYtQt5",
        "outputId": "e2cf84fa-db13-4123-de42-a836499fee8c"
      },
      "outputs": [
        {
          "name": "stdout",
          "output_type": "stream",
          "text": [
            "Collecting git+https://github.com//andreinechaev/nvcc4jupyter.git\n",
            "  Cloning https://github.com//andreinechaev/nvcc4jupyter.git to /tmp/pip-req-build-jo3wu0bb\n",
            "  Running command git clone --filter=blob:none --quiet https://github.com//andreinechaev/nvcc4jupyter.git /tmp/pip-req-build-jo3wu0bb\n",
            "  Resolved https://github.com//andreinechaev/nvcc4jupyter.git to commit 0a71d56e5dce3ff1f0dd2c47c29367629262f527\n",
            "  Preparing metadata (setup.py) ... \u001b[?25l\u001b[?25hdone\n",
            "Building wheels for collected packages: NVCCPlugin\n",
            "  Building wheel for NVCCPlugin (setup.py) ... \u001b[?25l\u001b[?25hdone\n",
            "  Created wheel for NVCCPlugin: filename=NVCCPlugin-0.0.2-py3-none-any.whl size=4293 sha256=743a10a16305de910383e4fe514bad2e86baf8a97c3c5e05ac9c0e3775706e2c\n",
            "  Stored in directory: /tmp/pip-ephem-wheel-cache-s43l7c21/wheels/f4/70/5d/b3b10f451cc69546b4feecc0d4c76cf43cdb63b93ba62cfecb\n",
            "Successfully built NVCCPlugin\n",
            "Installing collected packages: NVCCPlugin\n",
            "Successfully installed NVCCPlugin-0.0.2\n"
          ]
        }
      ],
      "source": [
        "!pip install git+https://github.com//andreinechaev/nvcc4jupyter.git"
      ]
    },
    {
      "cell_type": "code",
      "execution_count": 27,
      "metadata": {
        "colab": {
          "base_uri": "https://localhost:8080/"
        },
        "id": "GjTwJNv3tQt6",
        "outputId": "1fe5bdab-4c21-4558-ef57-ecc873211e0d"
      },
      "outputs": [
        {
          "name": "stdout",
          "output_type": "stream",
          "text": [
            "Overwriting aes_gcm_example.cu\n"
          ]
        }
      ],
      "source": [
        "%%writefile Quick_Sort.cu\n",
        "#include <stdio.h>\n",
        "#include <stdlib.h>\n",
        "#include <time.h>\n",
        "\n",
        "__device__ void quickSortKernel(int* array, int left, int right) {\n",
        "    if (left < right) {\n",
        "        int pivot = array[right];\n",
        "        int partitionIndex = left;\n",
        "\n",
        "        for (int i = left; i < right; ++i) {\n",
        "            if (array[i] < pivot) {\n",
        "                // Swap array[i] and array[partitionIndex]\n",
        "                int temp = array[i];\n",
        "                array[i] = array[partitionIndex];\n",
        "                array[partitionIndex] = temp;\n",
        "                partitionIndex++;\n",
        "            }\n",
        "        }\n",
        "\n",
        "        // Swap pivot with array[partitionIndex]\n",
        "        int temp = array[right];\n",
        "        array[right] = array[partitionIndex];\n",
        "        array[partitionIndex] = temp;\n",
        "\n",
        "        // Recursively sort left and right partitions\n",
        "        quickSortKernel(array, left, partitionIndex - 1);\n",
        "        quickSortKernel(array, partitionIndex + 1, right);\n",
        "    }\n",
        "}\n",
        "\n",
        "\n",
        "__global__ void quickSort(int* array, int left, int right) {\n",
        "    if (left < right) {\n",
        "        int pivot = array[right];\n",
        "        int partitionIndex = left;\n",
        "\n",
        "        for (int i = left; i < right; ++i) {\n",
        "            if (array[i] < pivot) {\n",
        "                // Swap array[i] and array[partitionIndex]\n",
        "                int temp = array[i];\n",
        "                array[i] = array[partitionIndex];\n",
        "                array[partitionIndex] = temp;\n",
        "                partitionIndex++;\n",
        "            }\n",
        "        }\n",
        "\n",
        "        // Swap pivot with array[partitionIndex]\n",
        "        int temp = array[right];\n",
        "        array[right] = array[partitionIndex];\n",
        "        array[partitionIndex] = temp;\n",
        "\n",
        "        // Recursively sort left and right partitions\n",
        "        quickSortKernel(array, left, partitionIndex - 1);\n",
        "        quickSortKernel(array, partitionIndex + 1, right);\n",
        "    }\n",
        "}\n",
        "\n",
        "int main() {\n",
        "    const int n = 1000; // Size of the array\n",
        "    int* array_h = (int*)malloc(sizeof(int) * n);\n",
        "\n",
        "    // Generate random numbers and fill the array\n",
        "    srand(time(NULL));\n",
        "    for (int i = 0; i < n; ++i) {\n",
        "        array_h[i] = rand() % 1000; // Generate random numbers between 0 and 999\n",
        "    }\n",
        "\n",
        "    // Print the unsorted array\n",
        "    printf(\"Unsorted array:\\n\");\n",
        "    for (int i = 0; i < n; ++i) {\n",
        "        printf(\"%d \", array_h[i]);\n",
        "    }\n",
        "    printf(\"\\n\");\n",
        "\n",
        "    int* array_dev;\n",
        "    cudaMalloc((void**)&array_dev, n * sizeof(int));\n",
        "    cudaMemcpy(array_dev, array_h, n * sizeof(int), cudaMemcpyHostToDevice);\n",
        "\n",
        "    cudaEvent_t start, stop;\n",
        "    cudaEventCreate(&start);\n",
        "    cudaEventCreate(&stop);\n",
        "\n",
        "    cudaEventRecord(start);\n",
        "    quickSort<<<1, 1>>>(array_dev, 0, n - 1);\n",
        "    cudaEventRecord(stop);\n",
        "    cudaEventSynchronize(stop);\n",
        "\n",
        "    float milliseconds = 0;\n",
        "    cudaEventElapsedTime(&milliseconds, start, stop);\n",
        "\n",
        "    cudaMemcpy(array_h, array_dev, n * sizeof(int), cudaMemcpyDeviceToHost);\n",
        "\n",
        "    // Print the sorted array\n",
        "    printf(\"Sorted array:\\n\");\n",
        "    for (int i = 0; i < n; ++i) {\n",
        "        printf(\"%d \", array_h[i]);\n",
        "    }\n",
        "    printf(\"\\n\");\n",
        "\n",
        "    printf(\"Runtime: %.3f milliseconds\\n\", milliseconds);\n",
        "\n",
        "    // Clean up memory and other resources\n",
        "    free(array_h);\n",
        "    cudaFree(array_dev);\n",
        "\n",
        "    return 0;\n",
        "}"
      ]
    },
    {
      "cell_type": "code",
      "execution_count": 31,
      "metadata": {
        "id": "wYGOx73itQt7"
      },
      "outputs": [],
      "source": [
        "!nvcc -o Quick_Sort Quick_Sort.cu \n"
      ]
    },
    {
      "cell_type": "code",
      "execution_count": 32,
      "metadata": {
        "id": "1XUugMoGtQt7"
      },
      "outputs": [],
      "source": [
        "!./Quick_Sort"
      ]
    }
  ],
  "metadata": {
    "accelerator": "GPU",
    "colab": {
      "gpuType": "T4",
      "provenance": []
    },
    "kernelspec": {
      "display_name": "Python 3",
      "name": "python3"
    },
    "language_info": {
      "name": "python"
    }
  },
  "nbformat": 4,
  "nbformat_minor": 0
}
